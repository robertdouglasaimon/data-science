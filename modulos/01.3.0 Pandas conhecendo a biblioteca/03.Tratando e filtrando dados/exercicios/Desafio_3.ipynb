{
  "nbformat": 4,
  "nbformat_minor": 0,
  "metadata": {
    "colab": {
      "provenance": []
    },
    "kernelspec": {
      "name": "python3",
      "display_name": "Python 3"
    },
    "language_info": {
      "name": "python"
    }
  },
  "cells": [
    {
      "cell_type": "markdown",
      "source": [
        "# Desafio 3: bora praticar?\n",
        "\n",
        "Para praticar os métodos aprendidos no decorrer dessa aula e também aprender novos, vamos realizar alguns tratamentos e seleções utilizando um arquivo csv diferente: [alunos.csv](https://raw.githubusercontent.com/alura-cursos/pandas-conhecendo-a-biblioteca/main/desafios/alunos.csv).\n",
        "\n",
        "Esse arquivo é o mesmo utilizado para resolução dos desafios da aula 1 e possui dados referentes a alunos de um curso superior.\n",
        "\n",
        "Com base nisso, solucione os problemas propostos abaixo utilizando os conhecimentos adquiridos até aqui.\n",
        "\n",
        "<br>\n",
        "\n",
        "1) Verifique se a base de dados possui dados nulos e, caso tenha, realize o tratamento desses dados nulos da forma que achar mais coerente com a situação.\n",
        "\n",
        "2) Os alunos \"Alice\" e \"Carlos\", não fazem mais parte da turma. Sendo assim, remova-os da base de dados.\n",
        "\n",
        "3) Aplique um filtro que selecione apenas os alunos que foram aprovados.\n",
        "\n",
        "4) Salve o DataFrame que possui apenas os alunos aprovados em um arquivo csv chamado \"alunos_aprovados.csv\".\n",
        "\n",
        "**Extra: Ao conferir as notas dos alunos aprovados, notamos que algumas notas estavam incorretas. As alunas que tiraram nota 7.0, na verdade, tinham um ponto extra que não foi contabilizado. Sendo assim, substitua as notas 7.0 da base de dados por 8.0. Dica: pesquise pelo método replace.**\n",
        "\n",
        "Caso queira, deixo disponibilizado um [notebook para resolver os desafios](https://cdn3.gnarususercontent.com.br/2925-introducao-pandas/desafios.ipynb). Você pode baixá-lo e fazer upload no Google Drive ou direto no Google Colab para realizar os desafios dessa e das próximas aulas.\n",
        "\n",
        "Se precisar de ajuda, na seção \"Opinião do Instrutor\" você pode encontrar algumas formas de resolver os desafios propostos acima."
      ],
      "metadata": {
        "id": "phcOjq5dMpqb"
      }
    },
    {
      "cell_type": "code",
      "execution_count": null,
      "metadata": {
        "id": "u9GbtYANMgFf"
      },
      "outputs": [],
      "source": []
    }
  ]
}