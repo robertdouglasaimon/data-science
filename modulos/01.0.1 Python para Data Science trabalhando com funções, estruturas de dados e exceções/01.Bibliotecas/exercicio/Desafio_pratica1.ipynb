{
  "cells": [
    {
      "cell_type": "code",
      "execution_count": 1,
      "id": "9a313ebb",
      "metadata": {
        "colab": {
          "base_uri": "https://localhost:8080/"
        },
        "id": "9a313ebb",
        "outputId": "75f0a631-d7b4-445a-af69-f3a06e8ff9b4"
      },
      "outputs": [
        {
          "output_type": "stream",
          "name": "stdout",
          "text": [
            "Requirement already satisfied: matplotlib==3.7.1 in /usr/local/lib/python3.10/dist-packages (3.7.1)\n",
            "Requirement already satisfied: contourpy>=1.0.1 in /usr/local/lib/python3.10/dist-packages (from matplotlib==3.7.1) (1.3.0)\n",
            "Requirement already satisfied: cycler>=0.10 in /usr/local/lib/python3.10/dist-packages (from matplotlib==3.7.1) (0.12.1)\n",
            "Requirement already satisfied: fonttools>=4.22.0 in /usr/local/lib/python3.10/dist-packages (from matplotlib==3.7.1) (4.54.1)\n",
            "Requirement already satisfied: kiwisolver>=1.0.1 in /usr/local/lib/python3.10/dist-packages (from matplotlib==3.7.1) (1.4.7)\n",
            "Requirement already satisfied: numpy>=1.20 in /usr/local/lib/python3.10/dist-packages (from matplotlib==3.7.1) (1.26.4)\n",
            "Requirement already satisfied: packaging>=20.0 in /usr/local/lib/python3.10/dist-packages (from matplotlib==3.7.1) (24.1)\n",
            "Requirement already satisfied: pillow>=6.2.0 in /usr/local/lib/python3.10/dist-packages (from matplotlib==3.7.1) (10.4.0)\n",
            "Requirement already satisfied: pyparsing>=2.3.1 in /usr/local/lib/python3.10/dist-packages (from matplotlib==3.7.1) (3.1.4)\n",
            "Requirement already satisfied: python-dateutil>=2.7 in /usr/local/lib/python3.10/dist-packages (from matplotlib==3.7.1) (2.8.2)\n",
            "Requirement already satisfied: six>=1.5 in /usr/local/lib/python3.10/dist-packages (from python-dateutil>=2.7->matplotlib==3.7.1) (1.16.0)\n"
          ]
        }
      ],
      "source": [
        "!pip install matplotlib==3.7.1"
      ]
    },
    {
      "cell_type": "code",
      "execution_count": 6,
      "id": "46ac6478",
      "metadata": {
        "id": "46ac6478"
      },
      "outputs": [],
      "source": [
        "import numpy as np"
      ]
    },
    {
      "cell_type": "code",
      "execution_count": 8,
      "id": "fbad26ed",
      "metadata": {
        "colab": {
          "base_uri": "https://localhost:8080/"
        },
        "id": "fbad26ed",
        "outputId": "224f94b1-c1e4-40ca-e2cb-8dd41eaeb113"
      },
      "outputs": [
        {
          "output_type": "stream",
          "name": "stdout",
          "text": [
            "Número escolhido: 23\n"
          ]
        }
      ],
      "source": [
        "import random\n",
        "lista = [8, 12, 54, 23, 43, 1, 90, 87, 105, 77]\n",
        "print(f\"Número escolhido: {random.choice(lista)}\")\n"
      ]
    },
    {
      "cell_type": "code",
      "execution_count": 10,
      "id": "30b23546",
      "metadata": {
        "colab": {
          "base_uri": "https://localhost:8080/"
        },
        "id": "30b23546",
        "outputId": "6aa6650a-5465-4e8a-a4f4-25b81ae38c11"
      },
      "outputs": [
        {
          "output_type": "stream",
          "name": "stdout",
          "text": [
            "Número sorteado: 56\n"
          ]
        }
      ],
      "source": [
        "import random\n",
        "\n",
        "numero_sorteado = random.randrange(100)\n",
        "print(f\"Número sorteado: {numero_sorteado}\")\n"
      ]
    },
    {
      "cell_type": "code",
      "execution_count": 11,
      "id": "b44a8993",
      "metadata": {
        "colab": {
          "base_uri": "https://localhost:8080/"
        },
        "id": "b44a8993",
        "outputId": "37f23a45-6bb3-4c28-a8f5-98920fc777af"
      },
      "outputs": [
        {
          "output_type": "stream",
          "name": "stdout",
          "text": [
            "Digite o primeiro número: 10\n",
            "Digite o segundo número: 10\n",
            "10 elevado a 10 é 10000000000\n"
          ]
        }
      ],
      "source": [
        "\n",
        "num1 = int(input(\"Digite o primeiro número: \"))\n",
        "num2 = int(input(\"Digite o segundo número: \"))\n",
        "resultado = pow(num1, num2)\n",
        "print(f\"{num1} elevado a {num2} é {resultado}\")\n"
      ]
    },
    {
      "cell_type": "code",
      "execution_count": 14,
      "id": "6c2ddb7d",
      "metadata": {
        "colab": {
          "base_uri": "https://localhost:8080/"
        },
        "id": "6c2ddb7d",
        "outputId": "bfaf0463-3cf4-4cc4-bee9-1c37525241e7"
      },
      "outputs": [
        {
          "output_type": "stream",
          "name": "stdout",
          "text": [
            "Quantos participantes há no sorteio? 100\n",
            "O número sorteado é: 94\n"
          ]
        }
      ],
      "source": [
        "import random\n",
        "\n",
        "participantes = int(input(\"Quantos participantes há no sorteio? \"))\n",
        "sorteado = random.randrange(1, participantes + 1)\n",
        "print(f\"O número sorteado é: {sorteado}\")\n"
      ]
    },
    {
      "cell_type": "code",
      "execution_count": 16,
      "id": "982636bc",
      "metadata": {
        "colab": {
          "base_uri": "https://localhost:8080/"
        },
        "id": "982636bc",
        "outputId": "d93352bc-95cc-4300-814b-45093b00b60a"
      },
      "outputs": [
        {
          "output_type": "stream",
          "name": "stdout",
          "text": [
            "Digite seu nome: 50\n",
            "Olá, 50, o seu token de acesso é 2108! Seja bem-vindo(a)!\n"
          ]
        }
      ],
      "source": [
        "import random\n",
        "\n",
        "nome = input(\"Digite seu nome: \")\n",
        "token = random.randrange(1000, 9999, 2)\n",
        "print(f\"Olá, {nome}, o seu token de acesso é {token}! Seja bem-vindo(a)!\")\n"
      ]
    },
    {
      "cell_type": "code",
      "execution_count": 18,
      "id": "ffe65c67",
      "metadata": {
        "colab": {
          "base_uri": "https://localhost:8080/"
        },
        "id": "ffe65c67",
        "outputId": "a4297a14-8642-4b59-a66f-2f0db846fb6d"
      },
      "outputs": [
        {
          "output_type": "stream",
          "name": "stdout",
          "text": [
            "As frutas escolhidas foram: ['pêra', 'maçã', 'uva']\n"
          ]
        }
      ],
      "source": [
        "import random\n",
        "\n",
        "frutas = [\"maçã\", \"banana\", \"uva\", \"pêra\", \"manga\", \"coco\",\n",
        "          \"melancia\", \"mamão\", \"laranja\", \"abacaxi\", \"kiwi\", \"ameixa\"]\n",
        "salada = random.sample(frutas, 3)\n",
        "print(f\"As frutas escolhidas foram: {salada}\")\n"
      ]
    },
    {
      "cell_type": "code",
      "execution_count": 20,
      "id": "ce83db0b",
      "metadata": {
        "colab": {
          "base_uri": "https://localhost:8080/"
        },
        "id": "ce83db0b",
        "outputId": "a2666537-4401-44b8-9890-3d0c346293b0"
      },
      "outputs": [
        {
          "output_type": "stream",
          "name": "stdout",
          "text": [
            "A raiz quadrada de 256 é 16 e é inteira.\n"
          ]
        }
      ],
      "source": [
        "import math\n",
        "\n",
        "numeros = [2, 8, 15, 23, 91, 112, 256]\n",
        "for numero in numeros:\n",
        "    raiz = math.sqrt(numero)\n",
        "    if raiz == int(raiz):\n",
        "        print(f\"A raiz quadrada de {numero} é {int(raiz)} e é inteira.\")"
      ]
    },
    {
      "cell_type": "code",
      "execution_count": 23,
      "id": "3cfb00d2",
      "metadata": {
        "colab": {
          "base_uri": "https://localhost:8080/"
        },
        "id": "3cfb00d2",
        "outputId": "4b2d03b6-0929-4814-fed9-78b9e683e8e3"
      },
      "outputs": [
        {
          "output_type": "stream",
          "name": "stdout",
          "text": [
            "Digite o raio do jardim em metros: 50\n",
            "O preço para cobrir o jardim circular será de R$ 196349.54\n"
          ]
        }
      ],
      "source": [
        "import math\n",
        "\n",
        "raio = float(input(\"Digite o raio do jardim em metros: \"))\n",
        "area = math.pi * pow(raio, 2)\n",
        "preco = 25 * area\n",
        "print(f\"O preço para cobrir o jardim circular será de R$ {preco:.2f}\")"
      ]
    }
  ],
  "metadata": {
    "colab": {
      "provenance": []
    },
    "language_info": {
      "name": "python"
    },
    "kernelspec": {
      "name": "python3",
      "display_name": "Python 3"
    }
  },
  "nbformat": 4,
  "nbformat_minor": 5
}